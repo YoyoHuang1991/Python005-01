{
 "cells": [
  {
   "cell_type": "markdown",
   "id": "occupied-network",
   "metadata": {},
   "source": [
    "### 数据结构：Series 和 DataFrame\n",
    "\n",
    "* Series 是个定长的字典序列。说是定长是因为在存储的时候，相当于两个 ndarray，这也是和字典结构最大的不同。因为在字典的结构里，元素的个数是不固定的。\n",
    "* Series 有两个基本属性：index 和 values。在 Series 结构中，index 默认是 0,1,2,……递增的整数序列，当然我们也可以自己来指定索引，比如 index=[‘a’, ‘b’, ‘c’, ‘d’]。"
   ]
  },
  {
   "cell_type": "code",
   "execution_count": 2,
   "id": "northern-singles",
   "metadata": {},
   "outputs": [
    {
     "name": "stdout",
     "output_type": "stream",
     "text": [
      "0    1\n",
      "1    2\n",
      "2    3\n",
      "3    4\n",
      "dtype: int64\n",
      "a    1\n",
      "b    2\n",
      "c    3\n",
      "d    4\n",
      "dtype: int64\n",
      "a    1\n",
      "b    2\n",
      "c    3\n",
      "d    4\n",
      "dtype: int64\n"
     ]
    }
   ],
   "source": [
    "import pandas as pd\n",
    "from pandas import Series, DataFrame\n",
    "\n",
    "#1. 包含index與value，index默認為0,1,2,3\n",
    "x1 = Series([1,2,3,4])   \n",
    "\n",
    "#2. 將index設為a,b,c,d\n",
    "x2 = Series(data=[1,2,3,4], index=['a', 'b', 'c', 'd'])  \n",
    "\n",
    "#3. 由dict()轉成Series\n",
    "x3 = {'a': 1, 'b': 2, 'c': 3, 'd': 4}\n",
    "x3 = Series(x3)\n",
    "\n",
    "print(x1)\n",
    "print(x2)\n",
    "print(x3)\n"
   ]
  },
  {
   "cell_type": "markdown",
   "id": "protected-detail",
   "metadata": {},
   "source": [
    "### DataFrame 类型数据结构类似数据库表。\n",
    "* 它包括了行索引和列索引，我们可以将 DataFrame 看成是由<span style=\"color:red\">相同索引的 Series 组成的字典类型</span>。\n",
    "* 我们虚构一个王者荣耀考试的场景，想要输出几位英雄的考试成绩："
   ]
  },
  {
   "cell_type": "code",
   "execution_count": 4,
   "id": "rural-constitutional",
   "metadata": {},
   "outputs": [
    {
     "name": "stdout",
     "output_type": "stream",
     "text": [
      "   Chinese  English  Math\n",
      "0       66       65    30\n",
      "1       95       85    98\n",
      "2       93       92    96\n",
      "3       90       88    77\n",
      "4       80       90    90\n",
      "            English  Math  Chinese\n",
      "ZhangFei         65    30       66\n",
      "GuanYu           85    98       95\n",
      "ZhaoYun          92    96       93\n",
      "HuangZhong       88    77       90\n",
      "DianWei          90    90       80\n"
     ]
    }
   ],
   "source": [
    "import pandas as pd\n",
    "from pandas import Series, DataFrame\n",
    "data = {'Chinese': [66, 95, 93, 90,80],'English': [65, 85, 92, 88, 90],'Math': [30, 98, 96, 77, 90]}\n",
    "df1 = DataFrame(data)\n",
    "df2 = DataFrame(data, index=['ZhangFei', 'GuanYu', 'ZhaoYun', 'HuangZhong', 'DianWei'], columns=['English', 'Math', 'Chinese'])\n",
    "# 將dict()形式的資料轉成dataframe，並加上index。\n",
    "# index的個數必須與data的筆數一致，例如：data內共有五個人的成績，index的設置也需要提供五個元素才能匹配。\n",
    "# 若成績比數跟index元素個數不同，則無法匹配。\n",
    "\n",
    "print(df1)\n",
    "print(df2)"
   ]
  },
  {
   "cell_type": "code",
   "execution_count": 17,
   "id": "alien-letter",
   "metadata": {},
   "outputs": [
    {
     "name": "stdout",
     "output_type": "stream",
     "text": [
      "dict_keys(['Chinese', 'English', 'Math'])\n",
      "    Chinese  English  Math\n",
      "小一       66       65    30\n",
      "小二       95       85    98\n",
      "小三       93       92    96\n",
      "小四       90       88    77\n",
      "小武       80       90    90\n"
     ]
    }
   ],
   "source": [
    "persons = ['小一', '小二', '小三','小四', '小武']\n",
    "data1 = {'Chinese': [66, 95, 93, 90,80],'English': [65, 85, 92, 88, 90],'Math': [30, 98, 96, 77, 90]}\n",
    "print(data1.keys())\n",
    "df3 = DataFrame(data1, index=persons, columns=data.keys())\n",
    "print(df3)"
   ]
  },
  {
   "cell_type": "markdown",
   "id": "seasonal-planning",
   "metadata": {},
   "source": [
    "### 数据导入和输出\n",
    "* Pandas 允许直接从 xlsx，csv 等文件中导入数据，也可以输出到 xlsx, csv 等文件，非常方便。"
   ]
  },
  {
   "cell_type": "code",
   "execution_count": null,
   "id": "architectural-practice",
   "metadata": {},
   "outputs": [],
   "source": [
    "import pandas as pd\n",
    "from pandas import Series, DataFrame\n",
    "score = DataFrame(pd.read_excel('data.xlsx'))\n",
    "score.to_excel('data1.xlsx')\n",
    "print(score)\n",
    "\n",
    "# 安裝了xlrd 和 openpyxl兩個套件"
   ]
  },
  {
   "cell_type": "markdown",
   "id": "limiting-headset",
   "metadata": {},
   "source": [
    "### 数据清洗数据\n",
    "* 清洗是数据准备过程中必不可少的环节，Pandas 也为我们提供了数据清洗的工具，在后面数据清洗的章节中会给你做详细的介绍，这里简单介绍下 Pandas 在数据清洗中的使用方法。\n",
    "* 我还是以上面这个王者荣耀的数据为例。"
   ]
  },
  {
   "cell_type": "code",
   "execution_count": 18,
   "id": "western-digest",
   "metadata": {},
   "outputs": [],
   "source": [
    "data = {'Chinese': [66, 95, 93, 90,80],'English': [65, 85, 92, 88, 90],'Math': [30, 98, 96, 77, 90]}\n",
    "df2 = DataFrame(data, index=['ZhangFei', 'GuanYu', 'ZhaoYun', 'HuangZhong', 'DianWei'], columns=['English', 'Math', 'Chinese'])\n",
    "\n",
    "# 1. 刪除不必要的欄位\n",
    "df2 = df2.drop(columns=['Chinese'])\n",
    "# 2. 刪除不必要的列\n",
    "df2 = df2.drop(index=['ZhangFei'])\n",
    "# 3. 重新命名欄位\n",
    "df2.rename(columns={'Chinese': 'YuWen', 'English': 'Yingyu'}, inplace = True)\n",
    "# 4. 去除重複的行，例如：有兩個張飛，把重複的張飛刪掉\n",
    "df = df.drop_duplicates()"
   ]
  },
  {
   "cell_type": "markdown",
   "id": "introductory-death",
   "metadata": {},
   "source": [
    "### 格式问题更改数据格式\n",
    "* 这是个比较常用的操作，因为很多时候数据格式不规范，我们可以使用 astype 函数来规范数据格式，\n",
    "* 比如我们把 Chinese 字段的值改成 str 类型，或者 int64 可以这么写："
   ]
  },
  {
   "cell_type": "code",
   "execution_count": 26,
   "id": "threaded-parcel",
   "metadata": {},
   "outputs": [
    {
     "data": {
      "text/plain": [
       "GuanYu        85\n",
       "ZhaoYun       92\n",
       "HuangZhong    88\n",
       "DianWei       90\n",
       "Name: English, dtype: int64"
      ]
     },
     "execution_count": 26,
     "metadata": {},
     "output_type": "execute_result"
    }
   ],
   "source": [
    "import numpy as np\n",
    "df2['English'].astype('str') \n",
    "df2['English'].astype(np.int64) "
   ]
  },
  {
   "cell_type": "code",
   "execution_count": 29,
   "id": "right-offset",
   "metadata": {},
   "outputs": [
    {
     "data": {
      "text/plain": [
       "GuanYu        85\n",
       "ZhaoYun       92\n",
       "HuangZhong    88\n",
       "DianWei       90\n",
       "Name: English, dtype: object"
      ]
     },
     "execution_count": 29,
     "metadata": {},
     "output_type": "execute_result"
    }
   ],
   "source": [
    "df2['English'].astype('str') "
   ]
  },
  {
   "cell_type": "markdown",
   "id": "guided-coffee",
   "metadata": {},
   "source": [
    "### 数据间的空格與特殊符號\n",
    "\n",
    "* 有时候我们先把格式转成了 str 类型，是为了方便对数据进行操作，这时想要删除数据间的空格，我们就可以使用 strip 函数："
   ]
  },
  {
   "cell_type": "code",
   "execution_count": 30,
   "id": "magnetic-scheduling",
   "metadata": {},
   "outputs": [
    {
     "ename": "TypeError",
     "evalue": "descriptor 'strip' requires a 'str' object but received a 'int'",
     "output_type": "error",
     "traceback": [
      "\u001b[0;31m---------------------------------------------------------------------------\u001b[0m",
      "\u001b[0;31mTypeError\u001b[0m                                 Traceback (most recent call last)",
      "\u001b[0;32m<ipython-input-30-01eb91c54a38>\u001b[0m in \u001b[0;36m<module>\u001b[0;34m\u001b[0m\n\u001b[1;32m      1\u001b[0m \u001b[0;31m#删除左右两边空格\u001b[0m\u001b[0;34m\u001b[0m\u001b[0;34m\u001b[0m\u001b[0;34m\u001b[0m\u001b[0m\n\u001b[0;32m----> 2\u001b[0;31m \u001b[0mdf2\u001b[0m\u001b[0;34m[\u001b[0m\u001b[0;34m'English'\u001b[0m\u001b[0;34m]\u001b[0m\u001b[0;34m=\u001b[0m\u001b[0mdf2\u001b[0m\u001b[0;34m[\u001b[0m\u001b[0;34m'English'\u001b[0m\u001b[0;34m]\u001b[0m\u001b[0;34m.\u001b[0m\u001b[0mmap\u001b[0m\u001b[0;34m(\u001b[0m\u001b[0mstr\u001b[0m\u001b[0;34m.\u001b[0m\u001b[0mstrip\u001b[0m\u001b[0;34m)\u001b[0m\u001b[0;34m\u001b[0m\u001b[0;34m\u001b[0m\u001b[0m\n\u001b[0m\u001b[1;32m      3\u001b[0m \u001b[0;31m#删除左边空格\u001b[0m\u001b[0;34m\u001b[0m\u001b[0;34m\u001b[0m\u001b[0;34m\u001b[0m\u001b[0m\n\u001b[1;32m      4\u001b[0m \u001b[0mdf2\u001b[0m\u001b[0;34m[\u001b[0m\u001b[0;34m'English'\u001b[0m\u001b[0;34m]\u001b[0m\u001b[0;34m=\u001b[0m\u001b[0mdf2\u001b[0m\u001b[0;34m[\u001b[0m\u001b[0;34m'English'\u001b[0m\u001b[0;34m]\u001b[0m\u001b[0;34m.\u001b[0m\u001b[0mmap\u001b[0m\u001b[0;34m(\u001b[0m\u001b[0mstr\u001b[0m\u001b[0;34m.\u001b[0m\u001b[0mlstrip\u001b[0m\u001b[0;34m)\u001b[0m\u001b[0;34m\u001b[0m\u001b[0;34m\u001b[0m\u001b[0m\n\u001b[1;32m      5\u001b[0m \u001b[0;31m#删除右边空格\u001b[0m\u001b[0;34m\u001b[0m\u001b[0;34m\u001b[0m\u001b[0;34m\u001b[0m\u001b[0m\n",
      "\u001b[0;32m~/PythonProject/venv/lib/python3.7/site-packages/pandas/core/series.py\u001b[0m in \u001b[0;36mmap\u001b[0;34m(self, arg, na_action)\u001b[0m\n\u001b[1;32m   3877\u001b[0m         \u001b[0mdtype\u001b[0m\u001b[0;34m:\u001b[0m \u001b[0mobject\u001b[0m\u001b[0;34m\u001b[0m\u001b[0;34m\u001b[0m\u001b[0m\n\u001b[1;32m   3878\u001b[0m         \"\"\"\n\u001b[0;32m-> 3879\u001b[0;31m         \u001b[0mnew_values\u001b[0m \u001b[0;34m=\u001b[0m \u001b[0msuper\u001b[0m\u001b[0;34m(\u001b[0m\u001b[0;34m)\u001b[0m\u001b[0;34m.\u001b[0m\u001b[0m_map_values\u001b[0m\u001b[0;34m(\u001b[0m\u001b[0marg\u001b[0m\u001b[0;34m,\u001b[0m \u001b[0mna_action\u001b[0m\u001b[0;34m=\u001b[0m\u001b[0mna_action\u001b[0m\u001b[0;34m)\u001b[0m\u001b[0;34m\u001b[0m\u001b[0;34m\u001b[0m\u001b[0m\n\u001b[0m\u001b[1;32m   3880\u001b[0m         return self._constructor(new_values, index=self.index).__finalize__(\n\u001b[1;32m   3881\u001b[0m             \u001b[0mself\u001b[0m\u001b[0;34m,\u001b[0m \u001b[0mmethod\u001b[0m\u001b[0;34m=\u001b[0m\u001b[0;34m\"map\"\u001b[0m\u001b[0;34m\u001b[0m\u001b[0;34m\u001b[0m\u001b[0m\n",
      "\u001b[0;32m~/PythonProject/venv/lib/python3.7/site-packages/pandas/core/base.py\u001b[0m in \u001b[0;36m_map_values\u001b[0;34m(self, mapper, na_action)\u001b[0m\n\u001b[1;32m    935\u001b[0m \u001b[0;34m\u001b[0m\u001b[0m\n\u001b[1;32m    936\u001b[0m         \u001b[0;31m# mapper is a function\u001b[0m\u001b[0;34m\u001b[0m\u001b[0;34m\u001b[0m\u001b[0;34m\u001b[0m\u001b[0m\n\u001b[0;32m--> 937\u001b[0;31m         \u001b[0mnew_values\u001b[0m \u001b[0;34m=\u001b[0m \u001b[0mmap_f\u001b[0m\u001b[0;34m(\u001b[0m\u001b[0mvalues\u001b[0m\u001b[0;34m,\u001b[0m \u001b[0mmapper\u001b[0m\u001b[0;34m)\u001b[0m\u001b[0;34m\u001b[0m\u001b[0;34m\u001b[0m\u001b[0m\n\u001b[0m\u001b[1;32m    938\u001b[0m \u001b[0;34m\u001b[0m\u001b[0m\n\u001b[1;32m    939\u001b[0m         \u001b[0;32mreturn\u001b[0m \u001b[0mnew_values\u001b[0m\u001b[0;34m\u001b[0m\u001b[0;34m\u001b[0m\u001b[0m\n",
      "\u001b[0;32mpandas/_libs/lib.pyx\u001b[0m in \u001b[0;36mpandas._libs.lib.map_infer\u001b[0;34m()\u001b[0m\n",
      "\u001b[0;31mTypeError\u001b[0m: descriptor 'strip' requires a 'str' object but received a 'int'"
     ]
    }
   ],
   "source": [
    "#删除左右两边空格\n",
    "df2['English']=df2['English'].map(str.strip)\n",
    "#删除左边空格\n",
    "df2['English']=df2['English'].map(str.lstrip)\n",
    "#删除右边空格\n",
    "df2['English']=df2['English'].map(str.rstrip)\n",
    "\n",
    "# 比如 Chinese 字段里有美元符号，我们想把这个删掉，可以这么写\n",
    "df2['Chinese']=df2['Chinese'].str.strip('$')\n"
   ]
  },
  {
   "cell_type": "markdown",
   "id": "metropolitan-hurricane",
   "metadata": {},
   "source": [
    "### 大小写转换\n",
    "* 大小写是个比较常见的操作，比如人名、城市名等的统一都可能用到大小写的转换，在 Python 里直接使用 upper(), lower(), title() 函数，方法如下"
   ]
  },
  {
   "cell_type": "code",
   "execution_count": 31,
   "id": "furnished-assistant",
   "metadata": {},
   "outputs": [],
   "source": [
    "#全部大写\n",
    "df2.columns = df2.columns.str.upper()\n",
    "#全部小写\n",
    "df2.columns = df2.columns.str.lower()\n",
    "#首字母大写\n",
    "df2.columns = df2.columns.str.title()"
   ]
  },
  {
   "cell_type": "markdown",
   "id": "sacred-fighter",
   "metadata": {},
   "source": [
    "### 查找空值\n",
    "* 数据量大的情况下，有些字段存在空值 NaN 的可能，这时就需要使用 Pandas 中的 isnull 函数进行查找。"
   ]
  },
  {
   "cell_type": "code",
   "execution_count": 39,
   "id": "varying-embassy",
   "metadata": {},
   "outputs": [
    {
     "data": {
      "text/plain": [
       "English    False\n",
       "Math       False\n",
       "dtype: bool"
      ]
     },
     "execution_count": 39,
     "metadata": {},
     "output_type": "execute_result"
    }
   ],
   "source": [
    "# 哪个地方存在空值 NaN，可以针对数据表 df\n",
    "df2.isnull()\n",
    "# 哪列存在空值\n",
    "df2.isnull().any()"
   ]
  },
  {
   "cell_type": "markdown",
   "id": "antique-volleyball",
   "metadata": {},
   "source": [
    "### 使用 apply 函数对数据进行清洗\n",
    "* apply 函数是 Pandas 中自由度非常高的函数，使用频率也非常高。\n",
    "* 比如我们想对 name欄的数值都进行大写转化可以用："
   ]
  },
  {
   "cell_type": "code",
   "execution_count": 42,
   "id": "mature-opening",
   "metadata": {},
   "outputs": [
    {
     "ename": "TypeError",
     "evalue": "descriptor 'upper' requires a 'str' object but received a 'int'",
     "output_type": "error",
     "traceback": [
      "\u001b[0;31m---------------------------------------------------------------------------\u001b[0m",
      "\u001b[0;31mTypeError\u001b[0m                                 Traceback (most recent call last)",
      "\u001b[0;32m<ipython-input-42-b179d0c15ca0>\u001b[0m in \u001b[0;36m<module>\u001b[0;34m\u001b[0m\n\u001b[0;32m----> 1\u001b[0;31m \u001b[0mdf2\u001b[0m\u001b[0;34m[\u001b[0m\u001b[0;34m'English'\u001b[0m\u001b[0;34m]\u001b[0m \u001b[0;34m=\u001b[0m \u001b[0mdf2\u001b[0m\u001b[0;34m[\u001b[0m\u001b[0;34m'English'\u001b[0m\u001b[0;34m]\u001b[0m\u001b[0;34m.\u001b[0m\u001b[0mapply\u001b[0m\u001b[0;34m(\u001b[0m\u001b[0mstr\u001b[0m\u001b[0;34m.\u001b[0m\u001b[0mupper\u001b[0m\u001b[0;34m)\u001b[0m\u001b[0;34m\u001b[0m\u001b[0;34m\u001b[0m\u001b[0m\n\u001b[0m",
      "\u001b[0;32m~/PythonProject/venv/lib/python3.7/site-packages/pandas/core/series.py\u001b[0m in \u001b[0;36mapply\u001b[0;34m(self, func, convert_dtype, args, **kwds)\u001b[0m\n\u001b[1;32m   4106\u001b[0m             \u001b[0;32melse\u001b[0m\u001b[0;34m:\u001b[0m\u001b[0;34m\u001b[0m\u001b[0;34m\u001b[0m\u001b[0m\n\u001b[1;32m   4107\u001b[0m                 \u001b[0mvalues\u001b[0m \u001b[0;34m=\u001b[0m \u001b[0mself\u001b[0m\u001b[0;34m.\u001b[0m\u001b[0mastype\u001b[0m\u001b[0;34m(\u001b[0m\u001b[0mobject\u001b[0m\u001b[0;34m)\u001b[0m\u001b[0;34m.\u001b[0m\u001b[0m_values\u001b[0m\u001b[0;34m\u001b[0m\u001b[0;34m\u001b[0m\u001b[0m\n\u001b[0;32m-> 4108\u001b[0;31m                 \u001b[0mmapped\u001b[0m \u001b[0;34m=\u001b[0m \u001b[0mlib\u001b[0m\u001b[0;34m.\u001b[0m\u001b[0mmap_infer\u001b[0m\u001b[0;34m(\u001b[0m\u001b[0mvalues\u001b[0m\u001b[0;34m,\u001b[0m \u001b[0mf\u001b[0m\u001b[0;34m,\u001b[0m \u001b[0mconvert\u001b[0m\u001b[0;34m=\u001b[0m\u001b[0mconvert_dtype\u001b[0m\u001b[0;34m)\u001b[0m\u001b[0;34m\u001b[0m\u001b[0;34m\u001b[0m\u001b[0m\n\u001b[0m\u001b[1;32m   4109\u001b[0m \u001b[0;34m\u001b[0m\u001b[0m\n\u001b[1;32m   4110\u001b[0m         \u001b[0;32mif\u001b[0m \u001b[0mlen\u001b[0m\u001b[0;34m(\u001b[0m\u001b[0mmapped\u001b[0m\u001b[0;34m)\u001b[0m \u001b[0;32mand\u001b[0m \u001b[0misinstance\u001b[0m\u001b[0;34m(\u001b[0m\u001b[0mmapped\u001b[0m\u001b[0;34m[\u001b[0m\u001b[0;36m0\u001b[0m\u001b[0;34m]\u001b[0m\u001b[0;34m,\u001b[0m \u001b[0mSeries\u001b[0m\u001b[0;34m)\u001b[0m\u001b[0;34m:\u001b[0m\u001b[0;34m\u001b[0m\u001b[0;34m\u001b[0m\u001b[0m\n",
      "\u001b[0;32mpandas/_libs/lib.pyx\u001b[0m in \u001b[0;36mpandas._libs.lib.map_infer\u001b[0;34m()\u001b[0m\n",
      "\u001b[0;31mTypeError\u001b[0m: descriptor 'upper' requires a 'str' object but received a 'int'"
     ]
    }
   ],
   "source": [
    "df2['name'] = df2['name'].apply(str.upper)\n",
    "\"\"\"\n",
    "1. 我们也可以定义个函数，在 apply 中进行使用。\n",
    "比如定义 double_df 函数是将原来的数值 *2 进行返回。\n",
    "然后对 df1 中的“语文”列的数值进行 *2 处理，可以写成：\n",
    "\"\"\"\n",
    "\n",
    "def double_df(x):\n",
    "           return 2*x\n",
    "df1[u'语文'] = df1[u'语文'].apply(double_df)\n",
    "\n",
    "\n",
    "\"\"\"\n",
    "2. 我们也可以定义更复杂的函数，比如对于 DataFrame，我们新增两欄，\n",
    "其中’new1’欄是“语文”和“英语”成绩之和的 m 倍，\n",
    "'new2’欄是“语文”和“英语”成绩之和的 n 倍，我们可以这样写：\n",
    "\"\"\"\n",
    "def plus(df,n,m):\n",
    "    df['new1'] = (df[u'语文']+df[u'英语']) * m\n",
    "    df['new2'] = (df[u'语文']+df[u'英语']) * n\n",
    "    return df\n",
    "df1 = df1.apply(plus,axis=1,args=(2,3,))\n",
    "\n",
    "\"\"\"\n",
    "3. 其中 axis=1 代表按照列为轴进行操作，\n",
    "axis=0 代表按照行为轴进行操作，\n",
    "args 是传递的两个参数，即 n=2, m=3，在 plus 函数中使用到了 n 和 m，从而生成新的 df。\n",
    "\"\"\""
   ]
  },
  {
   "cell_type": "markdown",
   "id": "comic-version",
   "metadata": {},
   "source": [
    "### 数据统计\n",
    "* 在数据清洗后，我们就要对数据进行统计了。\n",
    "* Pandas 和 NumPy 一样，都有常用的统计函数，如果遇到空值 NaN，会自动排除。常用的统计函数包括：\n",
    "<img src=\"./images/05-01.jpg\" width=\"200\" height=\"50\"/>\n",
    "* 表格中有一个 describe() 函数，统计函数千千万，describe() 函数最简便。\n",
    "* 它是个统计大礼包，可以快速让我们对数据有个全面的了解。下面我直接使用 df1.descirbe() 输出结果为："
   ]
  },
  {
   "cell_type": "code",
   "execution_count": 44,
   "id": "random-fighter",
   "metadata": {},
   "outputs": [
    {
     "name": "stdout",
     "output_type": "stream",
     "text": [
      "          data1\n",
      "count  5.000000\n",
      "mean   2.000000\n",
      "std    1.581139\n",
      "min    0.000000\n",
      "25%    1.000000\n",
      "50%    2.000000\n",
      "75%    3.000000\n",
      "max    4.000000\n"
     ]
    }
   ],
   "source": [
    "df1 = DataFrame({'name':['ZhangFei', 'GuanYu', 'a', 'b', 'c'], 'data1':range(5)})\n",
    "print(df1.describe())"
   ]
  },
  {
   "cell_type": "markdown",
   "id": "fatal-surgeon",
   "metadata": {},
   "source": [
    "### 数据表合并\n",
    "有时候我们需要将多个渠道源的多个数据表进行合并，一个 DataFrame 相当于一个数据库的数据表，那么多个 DataFrame 数据表的合并就相当于多个数据库的表合并。比如我要创建两个 DataFrame："
   ]
  },
  {
   "cell_type": "code",
   "execution_count": 50,
   "id": "radio-tuition",
   "metadata": {},
   "outputs": [],
   "source": [
    "# 两个 DataFrame 数据表的合并使用的是 merge() 函数，有下面 5 种形式：\n",
    "\"\"\"\n",
    "1. 基于指定列进行连接: 比如我们可以基于 name 这列进行连接。\n",
    "\"\"\"\n",
    "df2 = DataFrame({'name':['ZhangFei', 'GuanYu', 'a', 'b', 'c'], 'data1':range(5,10)})\n",
    "df3 = pd.merge(df1, df2, on='name')\n",
    "print(df3)\n",
    "\n",
    "\"\"\"\n",
    "2. inner 内连接\n",
    "inner 内链接是 merge 合并的默认情况，inner 内连接其实也就是键的交集，\n",
    "在这里 df1, df2 相同的键是 name，所以是基于 name 字段做的连接：\n",
    "\"\"\"\n",
    "df3 = pd.merge(df1, df2, how='inner')\n",
    "\n",
    "\"\"\"\n",
    "3. left 左连接\n",
    "左连接是以第一个 DataFrame 为主进行的连接，第二个 DataFrame 作为补充。\n",
    "\"\"\"\n",
    "df3 = pd.merge(df1, df2, how='left')\n",
    "\n",
    "\"\"\"\n",
    "4. right 右连接\n",
    "右连接是以第二个 DataFrame 为主进行的连接，第一个 DataFrame 作为补充。\n",
    "\"\"\"\n",
    "df3 = pd.merge(df1, df2, how='right')\n",
    "\n",
    "\"\"\"\n",
    "5. outer 外连接\n",
    "外连接相当于求两个 DataFrame 的并集。\n",
    "\"\"\"\n",
    "df3 = pd.merge(df1, df2, how='outer')"
   ]
  },
  {
   "cell_type": "markdown",
   "id": "handed-import",
   "metadata": {},
   "source": [
    "### 如何用 SQL 方式打开 Pandas\n",
    "* Pandas 的 DataFrame 数据类型可以让我们像处理数据表一样进行操作，比如数据表的增删改查，都可以用 Pandas 工具来完成。不过也会有很多人记不住这些 Pandas 的命令，相比之下还是用 SQL 语句更熟练，用 SQL 对数据表进行操作是最方便的，它的语句描述形式更接近我们的自然语言。\n",
    "* 事实上，在 Python 里可以直接使用 SQL 语句来操作 Pandas。\n",
    "* 这里给你介绍个工具：pandasql。\n",
    "* pandasql 中的主要函数是 sqldf，它接收两个参数：一个 SQL 查询语句，还有一组环境变量 globals() 或 locals()。这样我们就可以在 Python 里，直接用 SQL 语句中对 DataFrame 进行操作，举个例子：\n",
    "* 安裝!pip install pandasql"
   ]
  },
  {
   "cell_type": "code",
   "execution_count": 55,
   "id": "talented-marathon",
   "metadata": {},
   "outputs": [
    {
     "name": "stdout",
     "output_type": "stream",
     "text": [
      "       name  data1\n",
      "0  ZhangFei      0\n"
     ]
    }
   ],
   "source": [
    "import pandas as pd\n",
    "from pandas import DataFrame\n",
    "from pandasql import sqldf, load_meat, load_births\n",
    "df1 = DataFrame({'name':['ZhangFei', 'GuanYu', 'a', 'b', 'c'], 'data1':range(5)})\n",
    "pysqldf = lambda sql: sqldf(sql, globals())\n",
    "sql = \"select * from df1 where name ='ZhangFei'\"\n",
    "print(pysqldf(sql))\n",
    "\n",
    "\"\"\"\n",
    "pysqldf = lambda sql: sqldf(sql, globals())\n",
    "也可以寫成\n",
    "def pysqldf(sql):\n",
    "    sqldf(sql, globals())\n",
    "    \n",
    "# 會return query的結果\n",
    "# 環境設定：locals() or globals()\n",
    "        variable environment; locals() or globals() in your function\n",
    "        allows sqldf to access the variables in your python environment  \n",
    "\"\"\"\n"
   ]
  },
  {
   "cell_type": "markdown",
   "id": "psychological-shelf",
   "metadata": {},
   "source": [
    "* 上面这个例子中，我们是对“name='ZhangFei”“的行进行了输出。\n",
    "* 当然你会看到我们用到了 lambda，lambda 在 python 中算是使用频率很高的，那 lambda 是用来做什么的呢？它实际上是用来定义一个匿名函数的，具体的使用形式为：\n",
    "* lambda argument_list: expression\n",
    "\n",
    "* 在这个例子里，输入的参数是 sql，返回的结果是 sqldf 对 sql 的运行结果，当然 sqldf 中也输入了 globals 全局参数，因为在 sql 中有对全局参数 df1 的使用。\n"
   ]
  },
  {
   "cell_type": "code",
   "execution_count": 56,
   "id": "another-configuration",
   "metadata": {},
   "outputs": [
    {
     "name": "stdout",
     "output_type": "stream",
     "text": [
      "Help on function sqldf in module pandasql.sqldf:\n",
      "\n",
      "sqldf(query, env=None, db_uri='sqlite:///:memory:')\n",
      "    Query pandas data frames using sql syntax\n",
      "    This function is meant for backward compatibility only. New users are encouraged to use the PandaSQL class.\n",
      "    \n",
      "    Parameters\n",
      "    ----------\n",
      "    query: string\n",
      "        a sql query using DataFrames as tables\n",
      "    env: locals() or globals()\n",
      "        variable environment; locals() or globals() in your function\n",
      "        allows sqldf to access the variables in your python environment\n",
      "    db_uri: string\n",
      "        SQLAlchemy-compatible database URI\n",
      "    \n",
      "    Returns\n",
      "    -------\n",
      "    result: DataFrame\n",
      "        returns a DataFrame with your query's result\n",
      "    \n",
      "    Examples\n",
      "    --------\n",
      "    >>> import pandas as pd\n",
      "    >>> df = pd.DataFrame({\n",
      "        \"x\": range(100),\n",
      "        \"y\": range(100)\n",
      "    })\n",
      "    >>> from pandasql import sqldf\n",
      "    >>> sqldf(\"select * from df;\", globals())\n",
      "    >>> sqldf(\"select * from df;\", locals())\n",
      "    >>> sqldf(\"select avg(x) from df;\", locals())\n",
      "\n"
     ]
    }
   ],
   "source": [
    "help(sqldf)"
   ]
  },
  {
   "cell_type": "markdown",
   "id": "changing-blues",
   "metadata": {},
   "source": [
    "## 练习题\n",
    "对于下表的数据，请使用 Pandas 中的 DataFrame 进行创建，并对数据进行清洗。同时新增一列“总和”计算每个人的三科成绩之和。\n",
    "<img src=\"./images/05-02.png\">"
   ]
  },
  {
   "cell_type": "code",
   "execution_count": 60,
   "id": "august-radical",
   "metadata": {},
   "outputs": [],
   "source": [
    "import pandas as pd\n",
    "from pandas import Series, DataFrame\n",
    "data = {'語文': [66, 95, 95, 90, 80, 80],'英文': [65, 85, 92, 88, 90, 90],'數學':[None,98, 96, 77, 90, 90]}\n",
    "dfp = DataFrame(data, index=['張飛', '關羽', '趙雲', '黃忠', '典偉', '典偉'], columns=data.keys())"
   ]
  },
  {
   "cell_type": "code",
   "execution_count": 63,
   "id": "robust-consideration",
   "metadata": {},
   "outputs": [
    {
     "data": {
      "text/html": [
       "<div>\n",
       "<style scoped>\n",
       "    .dataframe tbody tr th:only-of-type {\n",
       "        vertical-align: middle;\n",
       "    }\n",
       "\n",
       "    .dataframe tbody tr th {\n",
       "        vertical-align: top;\n",
       "    }\n",
       "\n",
       "    .dataframe thead th {\n",
       "        text-align: right;\n",
       "    }\n",
       "</style>\n",
       "<table border=\"1\" class=\"dataframe\">\n",
       "  <thead>\n",
       "    <tr style=\"text-align: right;\">\n",
       "      <th></th>\n",
       "      <th>語文</th>\n",
       "      <th>英文</th>\n",
       "      <th>數學</th>\n",
       "    </tr>\n",
       "  </thead>\n",
       "  <tbody>\n",
       "    <tr>\n",
       "      <th>張飛</th>\n",
       "      <td>66</td>\n",
       "      <td>65</td>\n",
       "      <td>NaN</td>\n",
       "    </tr>\n",
       "    <tr>\n",
       "      <th>關羽</th>\n",
       "      <td>95</td>\n",
       "      <td>85</td>\n",
       "      <td>98.0</td>\n",
       "    </tr>\n",
       "    <tr>\n",
       "      <th>趙雲</th>\n",
       "      <td>95</td>\n",
       "      <td>92</td>\n",
       "      <td>96.0</td>\n",
       "    </tr>\n",
       "    <tr>\n",
       "      <th>黃忠</th>\n",
       "      <td>90</td>\n",
       "      <td>88</td>\n",
       "      <td>77.0</td>\n",
       "    </tr>\n",
       "    <tr>\n",
       "      <th>典偉</th>\n",
       "      <td>80</td>\n",
       "      <td>90</td>\n",
       "      <td>90.0</td>\n",
       "    </tr>\n",
       "    <tr>\n",
       "      <th>典偉</th>\n",
       "      <td>80</td>\n",
       "      <td>90</td>\n",
       "      <td>90.0</td>\n",
       "    </tr>\n",
       "  </tbody>\n",
       "</table>\n",
       "</div>"
      ],
      "text/plain": [
       "    語文  英文    數學\n",
       "張飛  66  65   NaN\n",
       "關羽  95  85  98.0\n",
       "趙雲  95  92  96.0\n",
       "黃忠  90  88  77.0\n",
       "典偉  80  90  90.0\n",
       "典偉  80  90  90.0"
      ]
     },
     "execution_count": 63,
     "metadata": {},
     "output_type": "execute_result"
    }
   ],
   "source": [
    "dfp"
   ]
  },
  {
   "cell_type": "code",
   "execution_count": 97,
   "id": "large-carol",
   "metadata": {},
   "outputs": [],
   "source": [
    "dfp1 = dfp.fillna(50)\n",
    "dfp1 = dfp1.drop_duplicates()\n",
    "def plus_col(df):\n",
    "    df['Sum'] = (df['語文']+df['英文']+df['數學'])\n",
    "    return df\n",
    "df2 = dfp1.apply(plus_col,axis=1)"
   ]
  },
  {
   "cell_type": "code",
   "execution_count": 98,
   "id": "separated-murray",
   "metadata": {},
   "outputs": [
    {
     "data": {
      "text/html": [
       "<div>\n",
       "<style scoped>\n",
       "    .dataframe tbody tr th:only-of-type {\n",
       "        vertical-align: middle;\n",
       "    }\n",
       "\n",
       "    .dataframe tbody tr th {\n",
       "        vertical-align: top;\n",
       "    }\n",
       "\n",
       "    .dataframe thead th {\n",
       "        text-align: right;\n",
       "    }\n",
       "</style>\n",
       "<table border=\"1\" class=\"dataframe\">\n",
       "  <thead>\n",
       "    <tr style=\"text-align: right;\">\n",
       "      <th></th>\n",
       "      <th>語文</th>\n",
       "      <th>英文</th>\n",
       "      <th>數學</th>\n",
       "      <th>Sum</th>\n",
       "    </tr>\n",
       "  </thead>\n",
       "  <tbody>\n",
       "    <tr>\n",
       "      <th>張飛</th>\n",
       "      <td>66.0</td>\n",
       "      <td>65.0</td>\n",
       "      <td>50.0</td>\n",
       "      <td>181.0</td>\n",
       "    </tr>\n",
       "    <tr>\n",
       "      <th>關羽</th>\n",
       "      <td>95.0</td>\n",
       "      <td>85.0</td>\n",
       "      <td>98.0</td>\n",
       "      <td>278.0</td>\n",
       "    </tr>\n",
       "    <tr>\n",
       "      <th>趙雲</th>\n",
       "      <td>95.0</td>\n",
       "      <td>92.0</td>\n",
       "      <td>96.0</td>\n",
       "      <td>283.0</td>\n",
       "    </tr>\n",
       "    <tr>\n",
       "      <th>黃忠</th>\n",
       "      <td>90.0</td>\n",
       "      <td>88.0</td>\n",
       "      <td>77.0</td>\n",
       "      <td>255.0</td>\n",
       "    </tr>\n",
       "    <tr>\n",
       "      <th>典偉</th>\n",
       "      <td>80.0</td>\n",
       "      <td>90.0</td>\n",
       "      <td>90.0</td>\n",
       "      <td>260.0</td>\n",
       "    </tr>\n",
       "  </tbody>\n",
       "</table>\n",
       "</div>"
      ],
      "text/plain": [
       "      語文    英文    數學    Sum\n",
       "張飛  66.0  65.0  50.0  181.0\n",
       "關羽  95.0  85.0  98.0  278.0\n",
       "趙雲  95.0  92.0  96.0  283.0\n",
       "黃忠  90.0  88.0  77.0  255.0\n",
       "典偉  80.0  90.0  90.0  260.0"
      ]
     },
     "execution_count": 98,
     "metadata": {},
     "output_type": "execute_result"
    }
   ],
   "source": [
    "df2"
   ]
  },
  {
   "cell_type": "markdown",
   "id": "bacterial-carroll",
   "metadata": {},
   "source": []
  },
  {
   "cell_type": "code",
   "execution_count": null,
   "id": "engaging-sunset",
   "metadata": {},
   "outputs": [],
   "source": []
  }
 ],
 "metadata": {
  "kernelspec": {
   "display_name": "Python 3",
   "language": "python",
   "name": "python3"
  },
  "language_info": {
   "codemirror_mode": {
    "name": "ipython",
    "version": 3
   },
   "file_extension": ".py",
   "mimetype": "text/x-python",
   "name": "python",
   "nbconvert_exporter": "python",
   "pygments_lexer": "ipython3",
   "version": "3.7.9"
  }
 },
 "nbformat": 4,
 "nbformat_minor": 5
}
