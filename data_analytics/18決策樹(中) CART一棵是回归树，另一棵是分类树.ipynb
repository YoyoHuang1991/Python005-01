{
 "cells": [
  {
   "cell_type": "markdown",
   "id": "friendly-andrews",
   "metadata": {},
   "source": [
    "分类回归树\n",
    "====\n",
    "CART 算法，英文全称叫做 Classification And Regression Tree，中文叫做分类回归树。ID3 和 C4.5 算法可以生成二叉树或多叉树，而 CART 只支持二叉树。同时 CART 决策树比较特殊，既可以作**分类树，又可以作回归树**。\n",
    "\n",
    "### 分類樹\n",
    "* 如果我构造了一棵决策树，想要基于**数据判断**这个人的职业身份，这个就属于**分类树**，因为是从几个分类中来做选择。\n",
    "\n",
    "### 回歸樹\n",
    "* 如果是给定了数据，想要**预测**这个人的年龄，那就属于**回归树**。\n"
   ]
  },
  {
   "cell_type": "code",
   "execution_count": null,
   "id": "annoying-external",
   "metadata": {},
   "outputs": [],
   "source": []
  }
 ],
 "metadata": {
  "kernelspec": {
   "display_name": "Python 3",
   "language": "python",
   "name": "python3"
  },
  "language_info": {
   "codemirror_mode": {
    "name": "ipython",
    "version": 3
   },
   "file_extension": ".py",
   "mimetype": "text/x-python",
   "name": "python",
   "nbconvert_exporter": "python",
   "pygments_lexer": "ipython3",
   "version": "3.7.9"
  }
 },
 "nbformat": 4,
 "nbformat_minor": 5
}
