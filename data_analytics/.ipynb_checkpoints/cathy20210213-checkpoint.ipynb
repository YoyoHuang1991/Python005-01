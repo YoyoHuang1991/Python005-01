{
 "cells": [
  {
   "cell_type": "code",
   "execution_count": 2,
   "id": "thorough-halifax",
   "metadata": {},
   "outputs": [
    {
     "data": {
      "text/plain": [
       "'\\ntest集未包含y預測值\\n1. 依據train建立模型\\n2. K折拆分預測模型準確率\\n3. 將test集輸入模型，輸出結果，將結果寫進excel檔中\\n'"
      ]
     },
     "execution_count": 2,
     "metadata": {},
     "output_type": "execute_result"
    }
   ],
   "source": [
    "import pandas as pd\n",
    "import seaborn as sns\n",
    "import matplotlib.pyplot as plt\n",
    "\n",
    "# 数据加载\n",
    "file_dir = '/Volumes/GoogleDrive/我的雲端硬碟/python/東海大學/Ｒ程式語言實作/國泰金控大數據比賽原始資料/'\n",
    "#file_dir = 'G:/我的雲端硬碟/python/東海大學/Ｒ程式語言實作/國泰金控大數據比賽原始資料/'\n",
    "train_buy_data = pd.read_csv(file_dir + 'train_buy_info.csv')\n",
    "train_cust_data = pd.read_csv(file_dir + 'train_cust_info.csv')\n",
    "train_tpy_data = pd.read_csv(file_dir + 'train_tpy_info.csv')\n",
    "\n",
    "test_buy_x_data = pd.read_csv(file_dir + 'test_buy_x_info.csv')\n",
    "test_cust_x_data = pd.read_csv(file_dir + 'test_cust_x_info.csv')\n",
    "test_tpy_x_data = pd.read_csv(file_dir + 'test_tpy_x_info.csv')\n",
    "\n",
    "\"\"\"\n",
    "test集未包含y預測值\n",
    "1. 依據train建立模型\n",
    "2. K折拆分預測模型準確率\n",
    "3. 將test集輸入模型，輸出結果，將結果寫進excel檔中\n",
    "\"\"\"\n",
    "\n",
    "\n",
    "# test_data = pd.read_csv('./Titanic_Data/test.csv')\n",
    "# 数据探索\n",
    "# print(train_data.info())\n",
    "# print('-'*30)\n",
    "# print(train_data.describe())\n",
    "# print('-'*30)\n",
    "# print(train_data.describe(include=['O']))\n",
    "# print('-'*30)\n",
    "# print(train_data.head())\n",
    "# print('-'*30)\n",
    "# print(train_data.tail())"
   ]
  },
  {
   "cell_type": "code",
   "execution_count": 3,
   "id": "comfortable-swift",
   "metadata": {},
   "outputs": [
    {
     "name": "stdout",
     "output_type": "stream",
     "text": [
      "<class 'pandas.core.frame.DataFrame'>\n",
      "RangeIndex: 229504 entries, 0 to 229503\n",
      "Data columns (total 13 columns):\n",
      " #   Column      Non-Null Count   Dtype  \n",
      "---  ------      --------------   -----  \n",
      " 0   CUST_ID     229504 non-null  int64  \n",
      " 1   BUY_TYPE    229504 non-null  object \n",
      " 2   AGE         229504 non-null  object \n",
      " 3   SEX         229504 non-null  object \n",
      " 4   HEIGHT      212696 non-null  float64\n",
      " 5   WEIGHT      212696 non-null  float64\n",
      " 6   OCCUPATION  229504 non-null  object \n",
      " 7   CHILD_NUM   229504 non-null  int64  \n",
      " 8   BUY_MONTH   229504 non-null  int64  \n",
      " 9   BUY_YEAR    229504 non-null  object \n",
      " 10  CITY_CODE   229504 non-null  object \n",
      " 11  BUDGET      229504 non-null  float64\n",
      " 12  MARRIAGE    229504 non-null  object \n",
      "dtypes: float64(3), int64(3), object(7)\n",
      "memory usage: 22.8+ MB\n",
      "None\n",
      "------------------------------\n",
      "            CUST_ID         HEIGHT         WEIGHT      CHILD_NUM  \\\n",
      "count  2.295040e+05  212696.000000  212696.000000  229504.000000   \n",
      "mean   1.497660e+06       0.090842       0.076742       0.453652   \n",
      "std    8.639463e+05       0.875282       0.931893       0.968561   \n",
      "min    1.000000e+00      -4.435044      -2.496374       0.000000   \n",
      "25%    7.526495e+05       0.142772      -0.162807       0.000000   \n",
      "50%    1.497406e+06       0.290444       0.210564       0.000000   \n",
      "75%    2.246362e+06       0.556252       0.677277       0.000000   \n",
      "max    2.991434e+06      16.711515      14.398650      10.000000   \n",
      "\n",
      "           BUY_MONTH         BUDGET  \n",
      "count  229504.000000  229504.000000  \n",
      "mean        6.697260      -0.065207  \n",
      "std         3.390518       0.843976  \n",
      "min         1.000000      -0.247931  \n",
      "25%         4.000000      -0.239478  \n",
      "50%         7.000000      -0.225248  \n",
      "75%        10.000000      -0.198863  \n",
      "max        12.000000     146.654523  \n",
      "------------------------------\n",
      "       BUY_TYPE     AGE     SEX OCCUPATION BUY_YEAR CITY_CODE MARRIAGE\n",
      "count    229504  229504  229504     229504   229504    229504   229504\n",
      "unique        7      17       2        100        1        23        6\n",
      "top           e       a       a        i37        T         m        b\n",
      "freq      63511   21905  130584      71832   229504     10178   115067\n",
      "------------------------------\n",
      "   CUST_ID BUY_TYPE AGE SEX    HEIGHT    WEIGHT OCCUPATION  CHILD_NUM  \\\n",
      "0  2903965        a   d   a  0.290444 -0.069464        q37          0   \n",
      "1  2815518        a   k   a       NaN       NaN        i37          0   \n",
      "2   526983        d   j   a  0.172307 -0.162807        i37          2   \n",
      "3  2615375        e   f   b  0.526718  0.023878        r37          0   \n",
      "4  1867789        f   h   a -0.152571 -0.396164        r32          0   \n",
      "\n",
      "   BUY_MONTH BUY_YEAR CITY_CODE    BUDGET MARRIAGE  \n",
      "0          9        T         m -0.097277        b  \n",
      "1          1        T         u  0.527346        b  \n",
      "2         10        T         g -0.236314        f  \n",
      "3          5        T         n -0.231325        b  \n",
      "4          8        T         k -0.238327        b  \n",
      "------------------------------\n",
      "        CUST_ID BUY_TYPE AGE SEX    HEIGHT    WEIGHT OCCUPATION  CHILD_NUM  \\\n",
      "229499  2341734        e   l   b  0.526718  0.770620        s32          0   \n",
      "229500  1465449        e   a   b -2.279040 -2.076332        q37          0   \n",
      "229501  2266446        d   k   a  0.349512  0.397249        s32          0   \n",
      "229502  1560462        a   g   b  0.822061  0.350578        i37          0   \n",
      "229503   105089        a   g   a  0.379047  0.023878        r37          0   \n",
      "\n",
      "        BUY_MONTH BUY_YEAR CITY_CODE    BUDGET MARRIAGE  \n",
      "229499          6        T         n -0.213493        f  \n",
      "229500          9        T         v -0.247030        b  \n",
      "229501          1        T         l -0.222872        f  \n",
      "229502         11        T         v  0.526391        b  \n",
      "229503          6        T         m -0.245075        b  \n"
     ]
    }
   ],
   "source": [
    "print(train_buy_data.info())\n",
    "\"\"\"\n",
    "看個欄位儲存的資料格式，確認欄位數，缺值數。\n",
    "\n",
    "1. 13個欄位有['CUST_ID', 'BUY_TYPE', 'AGE', 'SEX', 'HEIGHT', 'WEIGHT', 'OCCUPATION',\n",
    "       'CHILD_NUM', 'BUY_MONTH', 'BUY_YEAR', 'CITY_CODE', 'BUDGET',\n",
    "       'MARRIAGE']\n",
    "2. 229504筆資料，其中HEIGHT, WEIGHT有缺值\n",
    "3. Buy_type有7種，該欄取為預測的y值\n",
    "\"\"\"\n",
    "\n",
    "print('-'*30)\n",
    "print(train_buy_data.describe())\n",
    "\"\"\"\n",
    "僅列出int, float欄位\n",
    "\"\"\"\n",
    "print('-'*30)\n",
    "print(train_buy_data.describe(include=['O']))\n",
    "\"\"\"\n",
    "describe出object的欄位\n",
    "1. buy_year可以drop掉，因為資料都是同一年\n",
    "2. occupation職業別\n",
    "\"\"\"\n",
    "print('-'*30)\n",
    "print(train_buy_data.head())\n",
    "print('-'*30)\n",
    "print(train_buy_data.tail())"
   ]
  },
  {
   "cell_type": "code",
   "execution_count": 4,
   "id": "behind-laundry",
   "metadata": {},
   "outputs": [
    {
     "name": "stdout",
     "output_type": "stream",
     "text": [
      "<class 'pandas.core.frame.DataFrame'>\n",
      "RangeIndex: 229504 entries, 0 to 229503\n",
      "Data columns (total 13 columns):\n",
      " #   Column      Non-Null Count   Dtype  \n",
      "---  ------      --------------   -----  \n",
      " 0   CUST_ID     229504 non-null  int64  \n",
      " 1   BUY_TYPE    229504 non-null  object \n",
      " 2   AGE         229504 non-null  object \n",
      " 3   SEX         229504 non-null  object \n",
      " 4   HEIGHT      229504 non-null  float64\n",
      " 5   WEIGHT      229504 non-null  float64\n",
      " 6   OCCUPATION  229504 non-null  object \n",
      " 7   CHILD_NUM   229504 non-null  int64  \n",
      " 8   BUY_MONTH   229504 non-null  int64  \n",
      " 9   BUY_YEAR    229504 non-null  object \n",
      " 10  CITY_CODE   229504 non-null  object \n",
      " 11  BUDGET      229504 non-null  float64\n",
      " 12  MARRIAGE    229504 non-null  object \n",
      "dtypes: float64(3), int64(3), object(7)\n",
      "memory usage: 22.8+ MB\n"
     ]
    }
   ],
   "source": [
    "# 1. 為身高、體重補值\n",
    "train_buy_data['HEIGHT'].fillna(train_buy_data['HEIGHT'].mean(), inplace=True)\n",
    "train_buy_data['WEIGHT'].fillna(train_buy_data['WEIGHT'].mean(), inplace=True)\n",
    "train_buy_data.info()"
   ]
  },
  {
   "cell_type": "code",
   "execution_count": 5,
   "id": "conceptual-crash",
   "metadata": {},
   "outputs": [
    {
     "name": "stdout",
     "output_type": "stream",
     "text": [
      "a    21905\n",
      "e    19845\n",
      "k    19530\n",
      "h    19257\n",
      "f    18860\n",
      "g    18560\n",
      "l    17857\n",
      "j    17467\n",
      "i    16797\n",
      "d    14273\n",
      "m    14123\n",
      "c     9116\n",
      "n     8430\n",
      "b     7557\n",
      "o     3507\n",
      "p     1754\n",
      "q      666\n",
      "Name: AGE, dtype: int64\n"
     ]
    },
    {
     "name": "stderr",
     "output_type": "stream",
     "text": [
      "/Users/yuyu/PythonProject/venv/lib/python3.7/site-packages/seaborn/_decorators.py:43: FutureWarning: Pass the following variable as a keyword arg: x. From version 0.12, the only valid positional argument will be `data`, and passing other arguments without an explicit keyword will result in an error or misinterpretation.\n",
      "  FutureWarning\n"
     ]
    },
    {
     "data": {
      "image/png": "[encoded data removed]",
      "text/plain": [
       "<Figure size 432x288 with 1 Axes>"
      ]
     },
     "metadata": {
      "needs_background": "light"
     },
     "output_type": "display_data"
    },
    {
     "name": "stdout",
     "output_type": "stream",
     "text": [
      "{'a': 1, 'b': 2, 'c': 3, 'd': 4, 'e': 5, 'f': 6, 'g': 7, 'h': 8, 'i': 9, 'j': 10, 'k': 11, 'l': 12, 'm': 13, 'n': 14, 'o': 15, 'p': 16, 'q': 17}\n"
     ]
    },
    {
     "name": "stderr",
     "output_type": "stream",
     "text": [
      "/Users/yuyu/PythonProject/venv/lib/python3.7/site-packages/seaborn/_decorators.py:43: FutureWarning: Pass the following variable as a keyword arg: x. From version 0.12, the only valid positional argument will be `data`, and passing other arguments without an explicit keyword will result in an error or misinterpretation.\n",
      "  FutureWarning\n"
     ]
    },
    {
     "data": {
      "image/png": "[encoded data removed]",
      "text/plain": [
       "<Figure size 432x288 with 1 Axes>"
      ]
     },
     "metadata": {
      "needs_background": "light"
     },
     "output_type": "display_data"
    }
   ],
   "source": [
    "# 2. 將年齡改成int\n",
    "\n",
    "import seaborn as sns\n",
    "import matplotlib.pyplot as plt\n",
    "\n",
    "print(train_buy_data['AGE'].value_counts())\n",
    "age_count = train_buy_data['AGE'].value_counts()\n",
    "\n",
    "sns.countplot(train_buy_data['AGE'],label=\"Count\")\n",
    "plt.show()\n",
    "\n",
    "age_dict = {}\n",
    "num = 1\n",
    "for i in range(97, 97 + 17):\n",
    "    age_dict[chr(i)] = num\n",
    "    num += 1\n",
    "print(age_dict)\n",
    "\n",
    "train_buy_data['AGE']=train_buy_data['AGE'].map(age_dict)\n",
    "\n",
    "sns.countplot(train_buy_data['AGE'],label=\"Count\")\n",
    "plt.show()"
   ]
  },
  {
   "cell_type": "code",
   "execution_count": 6,
   "id": "stretch-pharmaceutical",
   "metadata": {},
   "outputs": [
    {
     "name": "stderr",
     "output_type": "stream",
     "text": [
      "/Users/yuyu/PythonProject/venv/lib/python3.7/site-packages/seaborn/_decorators.py:43: FutureWarning: Pass the following variable as a keyword arg: x. From version 0.12, the only valid positional argument will be `data`, and passing other arguments without an explicit keyword will result in an error or misinterpretation.\n",
      "  FutureWarning\n"
     ]
    },
    {
     "data": {
      "image/png": "[encoded data removed]",
      "text/plain": [
       "<Figure size 432x288 with 1 Axes>"
      ]
     },
     "metadata": {
      "needs_background": "light"
     },
     "output_type": "display_data"
    }
   ],
   "source": [
    "# 3. 將性別改為1,2\n",
    "train_buy_data['SEX']=train_buy_data['SEX'].map({'a':1,'b':2})\n",
    "sns.countplot(train_buy_data['SEX'],label=\"Count\")\n",
    "plt.show()"
   ]
  },
  {
   "cell_type": "code",
   "execution_count": 7,
   "id": "measured-puzzle",
   "metadata": {},
   "outputs": [
    {
     "name": "stderr",
     "output_type": "stream",
     "text": [
      "/Users/yuyu/PythonProject/venv/lib/python3.7/site-packages/seaborn/_decorators.py:43: FutureWarning: Pass the following variable as a keyword arg: x. From version 0.12, the only valid positional argument will be `data`, and passing other arguments without an explicit keyword will result in an error or misinterpretation.\n",
      "  FutureWarning\n"
     ]
    },
    {
     "data": {
      "image/png": "[encoded data removed]",
      "text/plain": [
       "<Figure size 432x288 with 1 Axes>"
      ]
     },
     "metadata": {
      "needs_background": "light"
     },
     "output_type": "display_data"
    }
   ],
   "source": [
    "sns.countplot(train_buy_data['OCCUPATION'],label=\"Count\")\n",
    "plt.show()"
   ]
  },
  {
   "cell_type": "code",
   "execution_count": 7,
   "id": "aggregate-ability",
   "metadata": {},
   "outputs": [],
   "source": [
    "occu_count = train_buy_data['OCCUPATION'].value_counts()\n",
    "tmp_dict = occu_count.to_dict()\n",
    "\n",
    "num = 2\n",
    "occu_dict = {}\n",
    "for k in tmp_dict:\n",
    "    if tmp_dict[k]/229504 < 0.01:\n",
    "        rep_num = 1\n",
    "        occu_dict[k] = rep_num\n",
    "    else:\n",
    "        rep_num = num\n",
    "        occu_dict[k] = rep_num\n",
    "        num += 1"
   ]
  },
  {
   "cell_type": "code",
   "execution_count": 35,
   "id": "diagnostic-radio",
   "metadata": {},
   "outputs": [
    {
     "data": {
      "text/plain": [
       "{'i37': 2,\n",
       " 't28': 3,\n",
       " 'q37': 4,\n",
       " 's32': 5,\n",
       " 'd32': 6,\n",
       " 'm28': 7,\n",
       " 'r37': 8,\n",
       " 'a37': 9,\n",
       " 'r32': 10,\n",
       " 'e37': 11,\n",
       " 'n37': 12,\n",
       " 'l37': 13,\n",
       " 'd29': 14,\n",
       " 'd12': 15,\n",
       " 'd37': 1,\n",
       " 'd42': 1,\n",
       " 'd41': 1,\n",
       " 'g28': 1,\n",
       " 'd7': 1,\n",
       " 'b28': 1,\n",
       " 'q41': 1,\n",
       " 'd38': 1,\n",
       " 's41': 1,\n",
       " 'n29': 1,\n",
       " 'c37': 1,\n",
       " 'r41': 1,\n",
       " 'd5': 1,\n",
       " 'j37': 1,\n",
       " 'l12': 1,\n",
       " 'd18': 1,\n",
       " 'a41': 1,\n",
       " 'd46': 1,\n",
       " 's37': 1,\n",
       " 'k29': 1,\n",
       " 'u37': 1,\n",
       " 'd47': 1,\n",
       " 'o28': 1,\n",
       " 'k41': 1,\n",
       " 'd3': 1,\n",
       " 'e41': 1,\n",
       " 'd10': 1,\n",
       " 'l32': 1,\n",
       " 'l41': 1,\n",
       " 'f40': 1,\n",
       " 'f46': 1,\n",
       " 'd22': 1,\n",
       " 'f37': 1,\n",
       " 'u41': 1,\n",
       " 'h41': 1,\n",
       " 'k37': 1,\n",
       " 'd14': 1,\n",
       " 'r12': 1,\n",
       " 'j41': 1,\n",
       " 'n41': 1,\n",
       " 'v12': 1,\n",
       " 'f42': 1,\n",
       " 'c41': 1,\n",
       " 'k32': 1,\n",
       " 'n14': 1,\n",
       " 'd16': 1,\n",
       " 'n32': 1,\n",
       " 'f32': 1,\n",
       " 'd24': 1,\n",
       " 'n12': 1,\n",
       " 'f41': 1,\n",
       " 'c32': 1,\n",
       " 'k14': 1,\n",
       " 'p37': 1,\n",
       " 'h32': 1,\n",
       " 'v29': 1,\n",
       " 'f29': 1,\n",
       " 'k12': 1,\n",
       " 'NANA': 1,\n",
       " 'p29': 1,\n",
       " 'p22': 1,\n",
       " 'f12': 1,\n",
       " 'f14': 1,\n",
       " 'd40': 1,\n",
       " 'p32': 1,\n",
       " 'h37': 1,\n",
       " 'v41': 1,\n",
       " 'p43': 1,\n",
       " 'p38': 1,\n",
       " 'p6': 1,\n",
       " 'p19': 1,\n",
       " 'p49': 1,\n",
       " 'p42': 1,\n",
       " 'p21': 1,\n",
       " 'p12': 1,\n",
       " 'p47': 1,\n",
       " 'm37': 1,\n",
       " 'i45': 1,\n",
       " 'p4': 1,\n",
       " 'p11': 1,\n",
       " 'p50': 1,\n",
       " 'p48': 1,\n",
       " 'p18': 1,\n",
       " 'p15': 1,\n",
       " 'p24': 1,\n",
       " 'p9': 1}"
      ]
     },
     "execution_count": 35,
     "metadata": {},
     "output_type": "execute_result"
    }
   ],
   "source": [
    "occu_dict"
   ]
  },
  {
   "cell_type": "code",
   "execution_count": 8,
   "id": "hybrid-abuse",
   "metadata": {},
   "outputs": [
    {
     "name": "stderr",
     "output_type": "stream",
     "text": [
      "/Users/yuyu/PythonProject/venv/lib/python3.7/site-packages/seaborn/_decorators.py:43: FutureWarning: Pass the following variable as a keyword arg: x. From version 0.12, the only valid positional argument will be `data`, and passing other arguments without an explicit keyword will result in an error or misinterpretation.\n",
      "  FutureWarning\n"
     ]
    },
    {
     "data": {
      "image/png": "[encoded data removed]",
      "text/plain": [
       "<Figure size 432x288 with 1 Axes>"
      ]
     },
     "metadata": {
      "needs_background": "light"
     },
     "output_type": "display_data"
    },
    {
     "name": "stderr",
     "output_type": "stream",
     "text": [
      "/Users/yuyu/PythonProject/venv/lib/python3.7/site-packages/seaborn/_decorators.py:43: FutureWarning: Pass the following variable as a keyword arg: x. From version 0.12, the only valid positional argument will be `data`, and passing other arguments without an explicit keyword will result in an error or misinterpretation.\n",
      "  FutureWarning\n"
     ]
    },
    {
     "data": {
      "image/png": "[encoded data removed]",
      "text/plain": [
       "<Figure size 432x288 with 1 Axes>"
      ]
     },
     "metadata": {
      "needs_background": "light"
     },
     "output_type": "display_data"
    }
   ],
   "source": [
    "sns.countplot(train_buy_data['OCCUPATION'],label=\"Count\")\n",
    "plt.show()\n",
    "\n",
    "train_buy_data['OCCUPATION']=train_buy_data['OCCUPATION'].map(occu_dict)\n",
    "\n",
    "sns.countplot(train_buy_data['OCCUPATION'],label=\"Count\")\n",
    "plt.show()"
   ]
  },
  {
   "cell_type": "code",
   "execution_count": 9,
   "id": "lesser-clinton",
   "metadata": {},
   "outputs": [
    {
     "name": "stderr",
     "output_type": "stream",
     "text": [
      "/Users/yuyu/PythonProject/venv/lib/python3.7/site-packages/seaborn/_decorators.py:43: FutureWarning: Pass the following variable as a keyword arg: x. From version 0.12, the only valid positional argument will be `data`, and passing other arguments without an explicit keyword will result in an error or misinterpretation.\n",
      "  FutureWarning\n"
     ]
    },
    {
     "data": {
      "image/png": "[encoded data removed]",
      "text/plain": [
       "<Figure size 432x288 with 1 Axes>"
      ]
     },
     "metadata": {
      "needs_background": "light"
     },
     "output_type": "display_data"
    },
    {
     "name": "stdout",
     "output_type": "stream",
     "text": [
      "{'m': 1, 'a': 2, 'p': 3, 'v': 4, 'f': 5, 't': 6, 'o': 7, 'd': 8, 'i': 9, 'r': 10, 'j': 11, 's': 12, 'q': 13, 'g': 14, 'u': 15, 'e': 16, 'c': 17, 'h': 18, 'n': 19, 'l': 20, 'k': 21, 'b': 22, 'w': 23}\n"
     ]
    },
    {
     "name": "stderr",
     "output_type": "stream",
     "text": [
      "/Users/yuyu/PythonProject/venv/lib/python3.7/site-packages/seaborn/_decorators.py:43: FutureWarning: Pass the following variable as a keyword arg: x. From version 0.12, the only valid positional argument will be `data`, and passing other arguments without an explicit keyword will result in an error or misinterpretation.\n",
      "  FutureWarning\n"
     ]
    },
    {
     "data": {
      "image/png": "[encoded data removed]",
      "text/plain": [
       "<Figure size 432x288 with 1 Axes>"
      ]
     },
     "metadata": {
      "needs_background": "light"
     },
     "output_type": "display_data"
    }
   ],
   "source": [
    "sns.countplot(train_buy_data['CITY_CODE'],label=\"Count\")\n",
    "plt.show()\n",
    "\n",
    "code_count = train_buy_data['CITY_CODE'].value_counts()\n",
    "\n",
    "code_dict = {}\n",
    "for k,v in enumerate(code_count.index):\n",
    "    code_dict[v] = k + 1\n",
    "print(code_dict)\n",
    "\n",
    "train_buy_data['CITY_CODE']=train_buy_data['CITY_CODE'].map(code_dict)\n",
    "sns.countplot(train_buy_data['CITY_CODE'],label=\"Count\")\n",
    "plt.show()"
   ]
  },
  {
   "cell_type": "code",
   "execution_count": 10,
   "id": "square-origin",
   "metadata": {},
   "outputs": [
    {
     "name": "stderr",
     "output_type": "stream",
     "text": [
      "/Users/yuyu/PythonProject/venv/lib/python3.7/site-packages/seaborn/_decorators.py:43: FutureWarning: Pass the following variable as a keyword arg: x. From version 0.12, the only valid positional argument will be `data`, and passing other arguments without an explicit keyword will result in an error or misinterpretation.\n",
      "  FutureWarning\n"
     ]
    },
    {
     "data": {
      "image/png": "[encoded data removed]",
      "text/plain": [
       "<Figure size 432x288 with 1 Axes>"
      ]
     },
     "metadata": {
      "needs_background": "light"
     },
     "output_type": "display_data"
    }
   ],
   "source": [
    "sns.countplot(train_buy_data['BUY_YEAR'],label=\"Count\")\n",
    "plt.show()\n",
    "train_buy_data.drop(['BUY_YEAR'], inplace=True, axis =1)"
   ]
  },
  {
   "cell_type": "code",
   "execution_count": 11,
   "id": "corresponding-bible",
   "metadata": {},
   "outputs": [
    {
     "name": "stderr",
     "output_type": "stream",
     "text": [
      "/Users/yuyu/PythonProject/venv/lib/python3.7/site-packages/seaborn/_decorators.py:43: FutureWarning: Pass the following variable as a keyword arg: x. From version 0.12, the only valid positional argument will be `data`, and passing other arguments without an explicit keyword will result in an error or misinterpretation.\n",
      "  FutureWarning\n"
     ]
    },
    {
     "data": {
      "image/png": "[encoded data removed]",
      "text/plain": [
       "<Figure size 432x288 with 1 Axes>"
      ]
     },
     "metadata": {
      "needs_background": "light"
     },
     "output_type": "display_data"
    },
    {
     "name": "stderr",
     "output_type": "stream",
     "text": [
      "/Users/yuyu/PythonProject/venv/lib/python3.7/site-packages/seaborn/_decorators.py:43: FutureWarning: Pass the following variable as a keyword arg: x. From version 0.12, the only valid positional argument will be `data`, and passing other arguments without an explicit keyword will result in an error or misinterpretation.\n",
      "  FutureWarning\n"
     ]
    },
    {
     "data": {
      "image/png": "[encoded data removed]",
      "text/plain": [
       "<Figure size 432x288 with 1 Axes>"
      ]
     },
     "metadata": {
      "needs_background": "light"
     },
     "output_type": "display_data"
    }
   ],
   "source": [
    "sns.countplot(train_buy_data['MARRIAGE'],label=\"Count\")\n",
    "plt.show()\n",
    "\n",
    "train_buy_data['MARRIAGE']=train_buy_data['MARRIAGE'].map({'b':1,'f':2,'a':3,'d':3,'e':3,'c':3})\n",
    "sns.countplot(train_buy_data['MARRIAGE'],label=\"Count\")\n",
    "plt.show()"
   ]
  },
  {
   "cell_type": "code",
   "execution_count": 12,
   "id": "yellow-local",
   "metadata": {},
   "outputs": [
    {
     "name": "stderr",
     "output_type": "stream",
     "text": [
      "/Users/yuyu/PythonProject/venv/lib/python3.7/site-packages/seaborn/_decorators.py:43: FutureWarning: Pass the following variable as a keyword arg: x. From version 0.12, the only valid positional argument will be `data`, and passing other arguments without an explicit keyword will result in an error or misinterpretation.\n",
      "  FutureWarning\n"
     ]
    },
    {
     "data": {
      "image/png": "[encoded data removed]",
      "text/plain": [
       "<Figure size 432x288 with 1 Axes>"
      ]
     },
     "metadata": {
      "needs_background": "light"
     },
     "output_type": "display_data"
    },
    {
     "data": {
      "text/plain": [
       "e    63511\n",
       "a    63141\n",
       "d    63097\n",
       "c    25371\n",
       "f     6782\n",
       "b     6772\n",
       "g      830\n",
       "Name: BUY_TYPE, dtype: int64"
      ]
     },
     "execution_count": 12,
     "metadata": {},
     "output_type": "execute_result"
    }
   ],
   "source": [
    "sns.countplot(train_buy_data['BUY_TYPE'],label=\"Count\")\n",
    "plt.show()\n",
    "train_buy_data['BUY_TYPE'].value_counts()"
   ]
  },
  {
   "cell_type": "code",
   "execution_count": 31,
   "id": "solved-momentum",
   "metadata": {},
   "outputs": [],
   "source": [
    "train_buy_data_sample = train_buy_data.sample(n=229504)\n",
    "\n",
    "from sklearn.model_selection import train_test_split\n",
    "features = [ 'AGE',\n",
    " 'HEIGHT',\n",
    " 'SEX',\n",
    " 'CHILD_NUM',\n",
    " 'BUDGET',\n",
    " 'MARRIAGE']\n",
    "\n",
    "train_buy, test_buy = train_test_split(train_buy_data_sample, test_size = 0.3)\n",
    "train_x = train_buy[features]\n",
    "train_y = train_buy['BUY_TYPE']\n",
    "test_x = test_buy[features]\n",
    "test_y =test_buy['BUY_TYPE']"
   ]
  },
  {
   "cell_type": "code",
   "execution_count": null,
   "id": "cosmetic-twenty",
   "metadata": {},
   "outputs": [],
   "source": [
    "print(prediction)"
   ]
  },
  {
   "cell_type": "code",
   "execution_count": null,
   "id": "portuguese-awareness",
   "metadata": {},
   "outputs": [],
   "source": []
  },
  {
   "cell_type": "code",
   "execution_count": 14,
   "id": "committed-switzerland",
   "metadata": {},
   "outputs": [
    {
     "name": "stdout",
     "output_type": "stream",
     "text": [
      "准确率:  0.5116\n"
     ]
    }
   ],
   "source": [
    "from sklearn import svm\n",
    "from sklearn import metrics\n",
    "from sklearn.preprocessing import StandardScaler\n",
    "\n",
    "ss = StandardScaler()\n",
    "train_x = ss.fit_transform(train_x)\n",
    "test_x = ss.transform(test_x)\n",
    "\n",
    "# 创建SVM分类器\n",
    "model = svm.SVC()\n",
    "# 用训练集做训练\n",
    "model.fit(train_x,train_y)\n",
    "# 用测试集做预测\n",
    "prediction=model.predict(test_x)\n",
    "print('准确率: ', metrics.accuracy_score(test_y, prediction))\n"
   ]
  },
  {
   "cell_type": "code",
   "execution_count": 32,
   "id": "oriented-switzerland",
   "metadata": {
    "scrolled": false
   },
   "outputs": [
    {
     "data": {
      "image/png": "[encoded data removed]",
      "text/plain": [
       "<Figure size 432x288 with 1 Axes>"
      ]
     },
     "metadata": {
      "needs_background": "light"
     },
     "output_type": "display_data"
    }
   ],
   "source": [
    "import numpy as np\n",
    "import matplotlib.pyplot as plt\n",
    "from sklearn import datasets\n",
    "from sklearn.metrics import zero_one_loss\n",
    "from sklearn.tree import DecisionTreeClassifier\n",
    "from sklearn.ensemble import  AdaBoostClassifier\n",
    "\n",
    "# 設置AdaBoost迭代次數\n",
    "n_estimators=200\n",
    "\n",
    "# 弱分類器\n",
    "dt_stump = DecisionTreeClassifier(max_depth=1,min_samples_leaf=1)\n",
    "dt_stump.fit(train_x, train_y)\n",
    "dt_stump_err = 1.0-dt_stump.score(test_x, test_y)\n",
    "\n",
    "# 決策樹分類器\n",
    "dt = DecisionTreeClassifier()\n",
    "dt.fit(train_x,  train_y)\n",
    "dt_err = 1.0-dt.score(test_x, test_y)\n",
    "\n",
    "# AdaBoost分類器，集成許多弱分類器dt_stump\n",
    "ada = AdaBoostClassifier(base_estimator=dt_stump,n_estimators=n_estimators)\n",
    "ada.fit(train_x,  train_y)\n",
    "\n",
    "# 三個分類器的錯誤率可視化\n",
    "fig = plt.figure()\n",
    "\n",
    "# 設置plt正確顯示中文\n",
    "plt.rcParams['font.sans-serif'] = ['Heiti TC']\n",
    "ax = fig.add_subplot(111)\n",
    "ax.plot([1,n_estimators],[dt_stump_err]*2, 'k-', label=u'決策樹弱分類器 錯誤率')\n",
    "ax.plot([1,n_estimators],[dt_err]*2,'k--', label=u'決策樹模型 錯誤率')\n",
    "ada_err = np.zeros((n_estimators,))\n",
    "\n",
    "# 遍歷每次迭代的結果 i為迭代次數，pred_y為預測結果\n",
    "for i,pred_y in enumerate(ada.staged_predict(test_x)):\n",
    "     # 統計錯誤率\n",
    "    ada_err[i]=zero_one_loss(pred_y, test_y)\n",
    "    \n",
    "# 繪製每次迭代的AdaBoost錯誤率\n",
    "ax.plot(np.arange(n_estimators)+1, ada_err, label='AdaBoost Test 錯誤率', color='orange')\n",
    "ax.set_xlabel('迭代次數')\n",
    "ax.set_ylabel('錯誤率')\n",
    "leg=ax.legend(loc='upper right',fancybox=True)\n",
    "plt.show()"
   ]
  },
  {
   "cell_type": "code",
   "execution_count": 33,
   "id": "clean-jimmy",
   "metadata": {},
   "outputs": [
    {
     "name": "stdout",
     "output_type": "stream",
     "text": [
      "0.6102364491953756\n",
      "0.430779062336606\n",
      "0.8466420728519143\n"
     ]
    }
   ],
   "source": [
    "print(ada_err.max())\n",
    "print(ada_err.min())\n",
    "print(1-dt_err)"
   ]
  },
  {
   "cell_type": "code",
   "execution_count": 30,
   "id": "beautiful-tobacco",
   "metadata": {},
   "outputs": [
    {
     "name": "stdout",
     "output_type": "stream",
     "text": [
      "多项式朴素贝叶斯准确率: 0.4033\n"
     ]
    }
   ],
   "source": [
    "from sklearn.naive_bayes import MultinomialNB\n",
    "from sklearn import preprocessing\n",
    "\n",
    "mm = preprocessing.MinMaxScaler()\n",
    "train_mm_x = mm.fit_transform(train_x)\n",
    "test_mm_x = mm.transform(test_x)\n",
    "\n",
    "# 创建Naive Bayes分类器\n",
    "mnb = MultinomialNB()\n",
    "mnb.fit(train_mm_x, train_y) \n",
    "predict_y = mnb.predict(test_mm_x) \n",
    "print(\"多项式朴素贝叶斯准确率: %.4lf\" % metrics.accuracy_score(test_y, predict_y))"
   ]
  },
  {
   "cell_type": "code",
   "execution_count": null,
   "id": "scheduled-tourist",
   "metadata": {},
   "outputs": [],
   "source": [
    "train_buy_data.to_csv(\"tmp_cathy_1.csv\")"
   ]
  },
  {
   "cell_type": "code",
   "execution_count": null,
   "id": "electrical-court",
   "metadata": {},
   "outputs": [],
   "source": [
    "import pandas as pd\n",
    "train_buy_data = pd.read_csv(\"tmp_cathy.csv\")\n",
    "train_buy_data.drop(['CUST_ID'], inplace=True, axis =1)"
   ]
  },
  {
   "cell_type": "code",
   "execution_count": null,
   "id": "imperial-burke",
   "metadata": {},
   "outputs": [],
   "source": []
  },
  {
   "cell_type": "code",
   "execution_count": null,
   "id": "metallic-celebrity",
   "metadata": {},
   "outputs": [],
   "source": [
    "import seaborn as sns\n",
    "import matplotlib.pyplot as plt\n",
    "\n",
    "corr = train_buy_data.corr()\n",
    "plt.figure(figsize=(14,14))\n",
    "# annot=True显示每个方格的数据\n",
    "sns.heatmap(corr, annot=True)\n",
    "plt.show()"
   ]
  },
  {
   "cell_type": "code",
   "execution_count": null,
   "id": "residential-outreach",
   "metadata": {},
   "outputs": [],
   "source": [
    "from sklearn import svm\n",
    "from sklearn import metrics\n",
    "from sklearn.preprocessing import StandardScaler\n",
    "\n",
    "ss = StandardScaler()\n",
    "train_x = ss.fit_transform(train_x)\n",
    "test_x = ss.transform(test_x)\n",
    "\n",
    "# 创建SVM分类器\n",
    "model = svm.SVC()\n",
    "# 用训练集做训练\n",
    "model.fit(train_x,train_y)\n",
    "# 用测试集做预测\n",
    "prediction=model.predict(test_x)\n",
    "print('准确率: ', metrics.accuracy_score(test_x,prediction))"
   ]
  },
  {
   "cell_type": "code",
   "execution_count": null,
   "id": "robust-halloween",
   "metadata": {},
   "outputs": [],
   "source": [
    "train_cust_data.info()\n"
   ]
  },
  {
   "cell_type": "code",
   "execution_count": null,
   "id": "given-spray",
   "metadata": {},
   "outputs": [],
   "source": [
    "train_buy_data"
   ]
  },
  {
   "cell_type": "code",
   "execution_count": null,
   "id": "statistical-navigation",
   "metadata": {},
   "outputs": [],
   "source": []
  }
 ],
 "metadata": {
  "kernelspec": {
   "display_name": "Python 3",
   "language": "python",
   "name": "python3"
  },
  "language_info": {
   "codemirror_mode": {
    "name": "ipython",
    "version": 3
   },
   "file_extension": ".py",
   "mimetype": "text/x-python",
   "name": "python",
   "nbconvert_exporter": "python",
   "pygments_lexer": "ipython3",
   "version": "3.7.9"
  }
 },
 "nbformat": 4,
 "nbformat_minor": 5
}
