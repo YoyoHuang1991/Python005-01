{
 "cells": [
  {
   "cell_type": "markdown",
   "id": "moving-cyprus",
   "metadata": {},
   "source": [
    "04丨Python科学计算：用NumPy快速处理数据\n",
    "===="
   ]
  },
  {
   "cell_type": "code",
   "execution_count": 2,
   "id": "furnished-canyon",
   "metadata": {},
   "outputs": [
    {
     "name": "stdout",
     "output_type": "stream",
     "text": [
      "(3,)\n",
      "(3, 3)\n",
      "int64\n",
      "[[ 1  2  3]\n",
      " [ 4 10  6]\n",
      " [ 7  8  9]]\n"
     ]
    }
   ],
   "source": [
    "# 創建數組\n",
    "\n",
    "import numpy as np\n",
    "a = np.array([1, 2, 3])\n",
    "b = np.array([[1, 2, 3], [4, 5, 6], [7, 8, 9]])\n",
    "b[1,1]=10\n",
    "print(a.shape)\n",
    "print(b.shape)\n",
    "print(a.dtype)\n",
    "print(b)"
   ]
  },
  {
   "cell_type": "code",
   "execution_count": 6,
   "id": "intermediate-european",
   "metadata": {},
   "outputs": [
    {
     "data": {
      "text/plain": [
       "10"
      ]
     },
     "execution_count": 6,
     "metadata": {},
     "output_type": "execute_result"
    }
   ],
   "source": [
    "b[1][1]"
   ]
  },
  {
   "cell_type": "code",
   "execution_count": 13,
   "id": "fiscal-feeding",
   "metadata": {},
   "outputs": [
    {
     "name": "stdout",
     "output_type": "stream",
     "text": [
      "28.25\n",
      "77.5\n",
      "93.25\n",
      "93.75\n"
     ]
    }
   ],
   "source": [
    "# 結構數組\n",
    "\n",
    "import numpy as np\n",
    "persontype = np.dtype({\n",
    "    'names':['name', 'age', 'chinese', 'math', 'english'],\n",
    "    'formats':['S32','i', 'i', 'i', 'f']})\n",
    "\"\"\"\n",
    "用np.dtype建立資料結構persontype，並設定：\n",
    "1. 將persontype視為一個資料結構，包含各個欄位，且欄位存放的資料格式需要先做設定。\n",
    "2. names即是欄位名稱，formats是在各個欄位的資料類型，names跟fornmats要成對\n",
    "3. persontype.fields可以查看資料有哪些欄位\n",
    "\"\"\"\n",
    "\n",
    "peoples = np.array([(\"ZhangFei\",32,75,100, 90),(\"GuanYu\",24,85,96,88.5),\n",
    "       (\"ZhaoYun\",28,85,92,96.5),(\"HuangZhong\",29,65,85,100)],\n",
    "    dtype=persontype)\n",
    "\"\"\"\n",
    "用np.array將多筆資料組成一個列表：\n",
    "1. dtype設定該列表資料各筆資料依循的資料結構為persontype\n",
    "2. 各組資料以tuple格式填入，persontype有name, age, chinese, math, english五個欄位。\n",
    "   所以np.array([], dtype=persontype)的[]填入資料。\n",
    "\"\"\"\n",
    "\n",
    "ages = peoples[:]['age'] \n",
    "chineses = peoples[:]['chinese']\n",
    "maths = peoples[:]['math']\n",
    "englishs = peoples[:]['english']\n",
    "print(np.mean(ages)) \n",
    "print(np.mean(chineses))\n",
    "print(np.mean(maths))\n",
    "print(np.mean(englishs))\n",
    "\n",
    "\"\"\"\n",
    "1. 將列表內所有人的'age'欄位資料取出，存到ages，為numpy.ndarray的結構。\n",
    "2. np.mean()求陣列內數值的平均數\n",
    "ex: np.mean([12,34,5])或填入tuple也可以np.mean((12,3,4,5))\n",
    "\"\"\""
   ]
  },
  {
   "cell_type": "code",
   "execution_count": 38,
   "id": "basic-fiber",
   "metadata": {},
   "outputs": [
    {
     "name": "stdout",
     "output_type": "stream",
     "text": [
      "[ 2.  6. 10. 14. 18.]\n",
      "[0. 0. 0. 0. 0.]\n",
      "[ 1.  9. 25. 49. 81.]\n",
      "[1. 1. 1. 1. 1.]\n",
      "[1.00000000e+00 2.70000000e+01 3.12500000e+03 8.23543000e+05\n",
      " 3.87420489e+08]\n",
      "[0. 0. 0. 0. 0.]\n"
     ]
    }
   ],
   "source": [
    "#連續數組的創建\n",
    "\n",
    "x1 = np.arange(1,11,2)  #(初始值, 終值(不包含), 差值)\n",
    "x2 = np.linspace(1,9,5) #(初始值, 終值(包含), 元素個數), 數據是浮點數\n",
    "print(np.add(x1, x2))   #相加, 相同index位置的元素相加\n",
    "print(np.subtract(x1, x2)) #相減\n",
    "print(np.multiply(x1,x2)) #相乘\n",
    "print(np.divide(x1, x2))   #相除\n",
    "print(np.power(x1, x2))    #n次方\n",
    "print(np.remainder(x1, x2))#相除取餘數\n",
    "print(np.mod(x1, x2))      #相同效果"
   ]
  },
  {
   "cell_type": "code",
   "execution_count": 49,
   "id": "impressed-exclusive",
   "metadata": {},
   "outputs": [],
   "source": [
    "x1 = np.linspace(1,9,5)\n",
    "x2 = np.linspace(1,9,4)"
   ]
  },
  {
   "cell_type": "code",
   "execution_count": 55,
   "id": "inner-armstrong",
   "metadata": {},
   "outputs": [
    {
     "name": "stdout",
     "output_type": "stream",
     "text": [
      "1\n",
      "[1 2 3]\n",
      "[1 4 7]\n",
      "9\n",
      "[7 8 9]\n",
      "[3 6 9]\n"
     ]
    }
   ],
   "source": [
    "# 计数组 / 矩阵中的最大值函数 amax()，最小值函数 amin()\n",
    "\n",
    "import numpy as np\n",
    "a = np.array([[1,2,3], [4,5,6], [7,8,9]])\n",
    "print(np.amin(a))\n",
    "print(np.amin(a,0)) \n",
    "\"\"\"\n",
    "amin(a)是延着 axis=0 轴的最小值，結果為[1,2,3]\n",
    "[1,2,3]\n",
    "[4,5,6]\n",
    "[7,8,9]\n",
    "amin(a,1)是延着 axis=1 轴的最小值，結果為[1,4,7]\n",
    "[1,4,7]\n",
    "[2,5,8]\n",
    "[3,6,9]\n",
    "\"\"\"\n",
    "print(np.amin(a,1))\n",
    "print(np.amax(a))\n",
    "print(np.amax(a,0))\n",
    "print(np.amax(a,1))"
   ]
  },
  {
   "cell_type": "code",
   "execution_count": 2,
   "id": "secret-hampton",
   "metadata": {},
   "outputs": [
    {
     "name": "stdout",
     "output_type": "stream",
     "text": [
      "8\n",
      "[6 6 6]\n",
      "[2 2 2]\n"
     ]
    }
   ],
   "source": [
    "# 统计最大值与最小值之差 ptp()\n",
    "import numpy as np\n",
    "a = np.array([[1,2,3], [4,5,6], [7,8,9]])\n",
    "print(np.ptp(a))\n",
    "print(np.ptp(a,0))\n",
    "print(np.ptp(a,1))"
   ]
  },
  {
   "cell_type": "code",
   "execution_count": null,
   "id": "subject-motorcycle",
   "metadata": {},
   "outputs": [],
   "source": []
  }
 ],
 "metadata": {
  "kernelspec": {
   "display_name": "Python 3",
   "language": "python",
   "name": "python3"
  },
  "language_info": {
   "codemirror_mode": {
    "name": "ipython",
    "version": 3
   },
   "file_extension": ".py",
   "mimetype": "text/x-python",
   "name": "python",
   "nbconvert_exporter": "python",
   "pygments_lexer": "ipython3",
   "version": "3.7.9"
  }
 },
 "nbformat": 4,
 "nbformat_minor": 5
}
